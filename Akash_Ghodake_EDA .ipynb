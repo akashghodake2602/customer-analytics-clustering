{
 "cells": [
  {
   "cell_type": "markdown",
   "id": "4cede2ae",
   "metadata": {},
   "source": [
    "# Exploratory Data Analysis (EDA)"
   ]
  },
  {
   "cell_type": "code",
   "execution_count": 3,
   "id": "ec12fd11",
   "metadata": {},
   "outputs": [],
   "source": [
    "# Import necessary libraries\n",
    "import pandas as pd\n",
    "\n",
    "# Load the datasets\n",
    "customer_df = pd.read_csv('C:\\\\Users\\\\Admin\\\\Downloads\\\\Customers.csv')  \n",
    "product_df = pd.read_csv('C:\\\\Users\\\\Admin\\\\Downloads\\\\Products.csv')    \n",
    "transaction_df = pd.read_csv('C:\\\\Users\\\\Admin\\\\Downloads\\\\Transactions.csv')  "
   ]
  },
  {
   "cell_type": "code",
   "execution_count": 5,
   "id": "01553cdb",
   "metadata": {},
   "outputs": [
    {
     "name": "stdout",
     "output_type": "stream",
     "text": [
      "Customer Data:\n",
      "  CustomerID        CustomerName         Region  SignupDate\n",
      "0      C0001    Lawrence Carroll  South America  2022-07-10\n",
      "1      C0002      Elizabeth Lutz           Asia  2022-02-13\n",
      "2      C0003      Michael Rivera  South America  2024-03-07\n",
      "3      C0004  Kathleen Rodriguez  South America  2022-10-09\n",
      "4      C0005         Laura Weber           Asia  2022-08-15\n"
     ]
    }
   ],
   "source": [
    "# Show the first few rows of each dataset to understand the structure\n",
    "print(\"Customer Data:\")\n",
    "print(customer_df.head())"
   ]
  },
  {
   "cell_type": "code",
   "execution_count": 6,
   "id": "e207b4f4",
   "metadata": {},
   "outputs": [
    {
     "name": "stdout",
     "output_type": "stream",
     "text": [
      "\n",
      "Product Data:\n",
      "  ProductID              ProductName     Category   Price\n",
      "0      P001     ActiveWear Biography        Books  169.30\n",
      "1      P002    ActiveWear Smartwatch  Electronics  346.30\n",
      "2      P003  ComfortLiving Biography        Books   44.12\n",
      "3      P004            BookWorld Rug   Home Decor   95.69\n",
      "4      P005          TechPro T-Shirt     Clothing  429.31\n"
     ]
    }
   ],
   "source": [
    "# Show the first few rows of each dataset to understand the structure\n",
    "print(\"\\nProduct Data:\")\n",
    "print(product_df.head())"
   ]
  },
  {
   "cell_type": "code",
   "execution_count": 7,
   "id": "b89e9aec",
   "metadata": {},
   "outputs": [
    {
     "name": "stdout",
     "output_type": "stream",
     "text": [
      "\n",
      "Transaction Data:\n",
      "  TransactionID CustomerID ProductID      TransactionDate  Quantity  \\\n",
      "0        T00001      C0199      P067  2024-08-25 12:38:23         1   \n",
      "1        T00112      C0146      P067  2024-05-27 22:23:54         1   \n",
      "2        T00166      C0127      P067  2024-04-25 07:38:55         1   \n",
      "3        T00272      C0087      P067  2024-03-26 22:55:37         2   \n",
      "4        T00363      C0070      P067  2024-03-21 15:10:10         3   \n",
      "\n",
      "   TotalValue   Price  \n",
      "0      300.68  300.68  \n",
      "1      300.68  300.68  \n",
      "2      300.68  300.68  \n",
      "3      601.36  300.68  \n",
      "4      902.04  300.68  \n"
     ]
    }
   ],
   "source": [
    "# Show the first few rows of each dataset to understand the structure\n",
    "print(\"\\nTransaction Data:\")\n",
    "print(transaction_df.head())"
   ]
  },
  {
   "cell_type": "code",
   "execution_count": 8,
   "id": "6d015ebb",
   "metadata": {},
   "outputs": [],
   "source": [
    "# Merge the datasets (assuming 'CustomerID' and 'ProductID' are the common identifiers)\n",
    "merged_df = pd.merge(transaction_df, customer_df, on='CustomerID', how='inner')\n",
    "merged_df = pd.merge(merged_df, product_df, on='ProductID', how='inner')\n"
   ]
  },
  {
   "cell_type": "code",
   "execution_count": 9,
   "id": "f29cfae1",
   "metadata": {},
   "outputs": [
    {
     "name": "stdout",
     "output_type": "stream",
     "text": [
      "\n",
      "Total Sales by Region:\n",
      "          Region  TotalValue\n",
      "0           Asia   152074.97\n",
      "1         Europe   166254.63\n",
      "2  North America   152313.40\n",
      "3  South America   219352.56\n"
     ]
    }
   ],
   "source": [
    "# Sample Analysis 1: Total sales by region (group by region)\n",
    "total_sales_by_region = merged_df.groupby('Region')['TotalValue'].sum().reset_index()\n",
    "print(\"\\nTotal Sales by Region:\")\n",
    "print(total_sales_by_region)\n"
   ]
  },
  {
   "cell_type": "code",
   "execution_count": 22,
   "id": "3b033755",
   "metadata": {},
   "outputs": [
    {
     "name": "stdout",
     "output_type": "stream",
     "text": [
      "\n",
      "Top-selling Products:\n"
     ]
    },
    {
     "data": {
      "text/html": [
       "<div>\n",
       "<style scoped>\n",
       "    .dataframe tbody tr th:only-of-type {\n",
       "        vertical-align: middle;\n",
       "    }\n",
       "\n",
       "    .dataframe tbody tr th {\n",
       "        vertical-align: top;\n",
       "    }\n",
       "\n",
       "    .dataframe thead th {\n",
       "        text-align: right;\n",
       "    }\n",
       "</style>\n",
       "<table border=\"1\" class=\"dataframe\">\n",
       "  <thead>\n",
       "    <tr style=\"text-align: right;\">\n",
       "      <th></th>\n",
       "      <th>ProductName</th>\n",
       "      <th>Quantity</th>\n",
       "    </tr>\n",
       "  </thead>\n",
       "  <tbody>\n",
       "    <tr>\n",
       "      <th>9</th>\n",
       "      <td>ActiveWear Smartwatch</td>\n",
       "      <td>100</td>\n",
       "    </tr>\n",
       "    <tr>\n",
       "      <th>47</th>\n",
       "      <td>SoundWave Headphones</td>\n",
       "      <td>97</td>\n",
       "    </tr>\n",
       "    <tr>\n",
       "      <th>36</th>\n",
       "      <td>HomeSense Desk Lamp</td>\n",
       "      <td>81</td>\n",
       "    </tr>\n",
       "    <tr>\n",
       "      <th>6</th>\n",
       "      <td>ActiveWear Rug</td>\n",
       "      <td>79</td>\n",
       "    </tr>\n",
       "    <tr>\n",
       "      <th>45</th>\n",
       "      <td>SoundWave Cookbook</td>\n",
       "      <td>78</td>\n",
       "    </tr>\n",
       "    <tr>\n",
       "      <th>...</th>\n",
       "      <td>...</td>\n",
       "      <td>...</td>\n",
       "    </tr>\n",
       "    <tr>\n",
       "      <th>37</th>\n",
       "      <td>HomeSense Headphones</td>\n",
       "      <td>18</td>\n",
       "    </tr>\n",
       "    <tr>\n",
       "      <th>50</th>\n",
       "      <td>SoundWave Laptop</td>\n",
       "      <td>16</td>\n",
       "    </tr>\n",
       "    <tr>\n",
       "      <th>48</th>\n",
       "      <td>SoundWave Jacket</td>\n",
       "      <td>16</td>\n",
       "    </tr>\n",
       "    <tr>\n",
       "      <th>22</th>\n",
       "      <td>BookWorld Wall Art</td>\n",
       "      <td>15</td>\n",
       "    </tr>\n",
       "    <tr>\n",
       "      <th>27</th>\n",
       "      <td>ComfortLiving Headphones</td>\n",
       "      <td>15</td>\n",
       "    </tr>\n",
       "  </tbody>\n",
       "</table>\n",
       "<p>66 rows × 2 columns</p>\n",
       "</div>"
      ],
      "text/plain": [
       "                 ProductName  Quantity\n",
       "9      ActiveWear Smartwatch       100\n",
       "47      SoundWave Headphones        97\n",
       "36       HomeSense Desk Lamp        81\n",
       "6             ActiveWear Rug        79\n",
       "45        SoundWave Cookbook        78\n",
       "..                       ...       ...\n",
       "37      HomeSense Headphones        18\n",
       "50          SoundWave Laptop        16\n",
       "48          SoundWave Jacket        16\n",
       "22        BookWorld Wall Art        15\n",
       "27  ComfortLiving Headphones        15\n",
       "\n",
       "[66 rows x 2 columns]"
      ]
     },
     "execution_count": 22,
     "metadata": {},
     "output_type": "execute_result"
    }
   ],
   "source": [
    "# Sample Analysis 2: Top-selling products by quantity sold\n",
    "top_selling_products = merged_df.groupby('ProductName')['Quantity'].sum().reset_index()\n",
    "top_selling_products = top_selling_products.sort_values(by='Quantity', ascending=False)\n",
    "print(\"\\nTop-selling Products:\")\n",
    "top_selling_products"
   ]
  },
  {
   "cell_type": "code",
   "execution_count": 11,
   "id": "f4cb0ebb",
   "metadata": {},
   "outputs": [
    {
     "name": "stdout",
     "output_type": "stream",
     "text": [
      "\n",
      "Average Transaction Value by Region:\n",
      "          Region  TotalValue\n",
      "0           Asia  697.591606\n",
      "1         Europe  710.489872\n",
      "2  North America  624.235246\n",
      "3  South America  721.554474\n"
     ]
    }
   ],
   "source": [
    "# Sample Analysis 3: Average transaction value by customer region\n",
    "avg_transaction_value_by_region = merged_df.groupby('Region')['TotalValue'].mean().reset_index()\n",
    "print(\"\\nAverage Transaction Value by Region:\")\n",
    "print(avg_transaction_value_by_region)"
   ]
  },
  {
   "cell_type": "code",
   "execution_count": 12,
   "id": "adb5a124",
   "metadata": {},
   "outputs": [
    {
     "name": "stdout",
     "output_type": "stream",
     "text": [
      "\n",
      "Most Recent Transactions by Customer:\n",
      "    CustomerID TransactionID ProductID     TransactionDate  Quantity  \\\n",
      "0        C0001        T00436      P029 2024-11-02 17:04:16         3   \n",
      "1        C0002        T00675      P071 2024-12-03 01:41:41         2   \n",
      "2        C0003        T00648      P002 2024-08-24 18:54:04         4   \n",
      "3        C0004        T00379      P077 2024-12-23 14:13:52         4   \n",
      "4        C0005        T00789      P012 2024-11-04 00:30:22         2   \n",
      "..         ...           ...       ...                 ...       ...   \n",
      "194      C0196        T00575      P079 2024-12-15 03:43:35         4   \n",
      "195      C0197        T00951      P027 2024-12-27 18:20:31         2   \n",
      "196      C0198        T00583      P073 2024-10-04 18:31:12         1   \n",
      "197      C0199        T00963      P008 2024-10-26 00:01:58         2   \n",
      "198      C0200        T00518      P034 2024-12-11 03:05:50         4   \n",
      "\n",
      "     TotalValue  Price_x        CustomerName         Region  SignupDate  \\\n",
      "0       1300.92   433.64    Lawrence Carroll  South America  2022-07-10   \n",
      "1        254.72   127.36      Elizabeth Lutz           Asia  2022-02-13   \n",
      "2       1385.20   346.30      Michael Rivera  South America  2024-03-07   \n",
      "3       1062.04   265.51  Kathleen Rodriguez  South America  2022-10-09   \n",
      "4        319.20   159.60         Laura Weber           Asia  2022-08-15   \n",
      "..          ...      ...                 ...            ...         ...   \n",
      "194     1669.48   417.37         Laura Watts         Europe  2022-06-07   \n",
      "195      458.12   229.06    Christina Harvey         Europe  2023-03-21   \n",
      "196       26.99    26.99         Rebecca Ray         Europe  2022-02-27   \n",
      "197      293.70   146.85      Andrea Jenkins         Europe  2022-12-03   \n",
      "198      868.20   217.05         Kelly Cross           Asia  2023-06-11   \n",
      "\n",
      "                     ProductName     Category  Price_y  \n",
      "0             TechPro Headphones  Electronics   433.64  \n",
      "1                TechPro T-Shirt     Clothing   127.36  \n",
      "2          ActiveWear Smartwatch  Electronics   346.30  \n",
      "3          ActiveWear Smartwatch  Electronics   265.51  \n",
      "4       ComfortLiving Headphones  Electronics   159.60  \n",
      "..                           ...          ...      ...  \n",
      "194               ActiveWear Rug   Home Decor   417.37  \n",
      "195         SoundWave Headphones  Electronics   229.06  \n",
      "196         ComfortLiving Laptop  Electronics    26.99  \n",
      "197  BookWorld Bluetooth Speaker  Electronics   146.85  \n",
      "198            HomeSense T-Shirt     Clothing   217.05  \n",
      "\n",
      "[199 rows x 13 columns]\n"
     ]
    }
   ],
   "source": [
    "# Sample Analysis 4: Most recent transactions by customer\n",
    "merged_df['TransactionDate'] = pd.to_datetime(merged_df['TransactionDate'])  # Convert to datetime format\n",
    "most_recent_transactions = merged_df.sort_values('TransactionDate', ascending=False).groupby('CustomerID').first().reset_index()\n",
    "print(\"\\nMost Recent Transactions by Customer:\")\n",
    "print(most_recent_transactions)"
   ]
  },
  {
   "cell_type": "code",
   "execution_count": 13,
   "id": "cef9d415",
   "metadata": {},
   "outputs": [],
   "source": [
    "# Save the merged data for further analysis\n",
    "merged_df.to_csv('merged_data.csv', index=False)"
   ]
  },
  {
   "cell_type": "code",
   "execution_count": 14,
   "id": "72bbac8f",
   "metadata": {},
   "outputs": [],
   "source": [
    "# Customer Segmentation Based on Total Spending\n",
    "\n",
    "# Group by CustomerID and calculate total spending per customer\n",
    "customer_spending = merged_df.groupby('CustomerID')['TotalValue'].sum().reset_index()"
   ]
  },
  {
   "cell_type": "code",
   "execution_count": 15,
   "id": "7b2c6047",
   "metadata": {},
   "outputs": [],
   "source": [
    "# Create bins for segmentation (Low, Medium, High spenders)\n",
    "# Define the spending ranges for Low, Medium, High (You can adjust these based on your dataset's distribution)\n",
    "bins = [0, 500, 1000, customer_spending['TotalValue'].max()]\n",
    "labels = ['Low', 'Medium', 'High']"
   ]
  },
  {
   "cell_type": "code",
   "execution_count": 16,
   "id": "acc2f71a",
   "metadata": {},
   "outputs": [],
   "source": [
    "# Assign a segment to each customer based on their total spending\n",
    "customer_spending['SpendingCategory'] = pd.cut(customer_spending['TotalValue'], bins=bins, labels=labels, include_lowest=True)\n"
   ]
  },
  {
   "cell_type": "code",
   "execution_count": 17,
   "id": "ad1433d1",
   "metadata": {},
   "outputs": [],
   "source": [
    "# Merge the spending categories back into the main DataFrame\n",
    "merged_with_spending = pd.merge(merged_df, customer_spending[['CustomerID', 'SpendingCategory']], on='CustomerID', how='left')\n"
   ]
  },
  {
   "cell_type": "code",
   "execution_count": 18,
   "id": "52b658ed",
   "metadata": {},
   "outputs": [],
   "source": [
    "# Show the total sales by spending category\n",
    "sales_by_spending_category = merged_with_spending.groupby('SpendingCategory')['TotalValue'].sum().reset_index()\n"
   ]
  },
  {
   "cell_type": "code",
   "execution_count": 19,
   "id": "b799d348",
   "metadata": {},
   "outputs": [],
   "source": [
    "# Show the number of customers in each segment\n",
    "customer_count_by_spending_category = customer_spending['SpendingCategory'].value_counts().reset_index()\n",
    "customer_count_by_spending_category.columns = ['SpendingCategory', 'CustomerCount']\n"
   ]
  },
  {
   "cell_type": "code",
   "execution_count": 20,
   "id": "2bb3fcc2",
   "metadata": {},
   "outputs": [
    {
     "name": "stdout",
     "output_type": "stream",
     "text": [
      "\n",
      "Total Sales by Spending Category:\n",
      "  SpendingCategory  TotalValue\n",
      "0              Low     1291.50\n",
      "1           Medium     9771.09\n",
      "2             High   678932.97\n"
     ]
    }
   ],
   "source": [
    "# Display the results\n",
    "print(\"\\nTotal Sales by Spending Category:\")\n",
    "print(sales_by_spending_category)\n"
   ]
  },
  {
   "cell_type": "code",
   "execution_count": 21,
   "id": "933c3fda",
   "metadata": {},
   "outputs": [
    {
     "name": "stdout",
     "output_type": "stream",
     "text": [
      "\n",
      "Customer Count by Spending Category:\n",
      "  SpendingCategory  CustomerCount\n",
      "0             High            181\n",
      "1           Medium             12\n",
      "2              Low              6\n"
     ]
    }
   ],
   "source": [
    "print(\"\\nCustomer Count by Spending Category:\")\n",
    "print(customer_count_by_spending_category)\n"
   ]
  }
 ],
 "metadata": {
  "kernelspec": {
   "display_name": "Python 3 (ipykernel)",
   "language": "python",
   "name": "python3"
  },
  "language_info": {
   "codemirror_mode": {
    "name": "ipython",
    "version": 3
   },
   "file_extension": ".py",
   "mimetype": "text/x-python",
   "name": "python",
   "nbconvert_exporter": "python",
   "pygments_lexer": "ipython3",
   "version": "3.11.3"
  }
 },
 "nbformat": 4,
 "nbformat_minor": 5
}
